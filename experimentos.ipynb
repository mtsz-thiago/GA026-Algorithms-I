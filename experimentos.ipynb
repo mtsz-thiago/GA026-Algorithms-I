{
 "cells": [
  {
   "cell_type": "code",
   "execution_count": 225,
   "metadata": {},
   "outputs": [],
   "source": [
    "from t_graph import TGraph, TEdge, TNode\n",
    "import numpy as np\n",
    "import matplotlib.pyplot as plt\n",
    "from tqdm import tqdm\n",
    "import pandas as pd\n",
    "\n",
    "from measure import measure_performance, PerformanceMeasure"
   ]
  },
  {
   "cell_type": "code",
   "execution_count": 163,
   "metadata": {},
   "outputs": [],
   "source": [
    "import numpy as np\n",
    "import sys\n",
    "import itertools\n",
    "\n",
    "class WeightedGraphFactory():\n",
    "    \n",
    "    def __init__(self, num_vertices_range, num_edges_range,\n",
    "                 weight_max = sys.float_info.max, weight_min = sys.float_info.min):\n",
    "        self.num_vertices_range = num_vertices_range\n",
    "        self.num_edges_range = num_edges_range\n",
    "        self.weight_max = weight_max\n",
    "        self.weight_min = weight_min\n",
    "    \n",
    "    def create_graph(self, num_vertices: int, num_edges: int) -> TGraph:\n",
    "        \n",
    "        weights = np.random.random((int(num_edges), 1))\n",
    "        weights = weights * (self.weight_max - self.weight_min) + self.weight_min\n",
    "        \n",
    "        vertices_list = list(range(0,num_vertices))\n",
    "        vertices_space = itertools.product(vertices_list, vertices_list)\n",
    "        vertices_space = [e for e in vertices_space if e[0] != e[1]]\n",
    "        a_vertices_space = range(0, len(vertices_space))\n",
    "        \n",
    "        assert len(a_vertices_space) >= num_edges, f\"{num_edges} edges are too many for {num_vertices} vertices.\"\n",
    "        \n",
    "        chosen = np.random.choice(a_vertices_space, num_edges, replace=False)\n",
    "        E_list = [vertices_space[i] for i in chosen]\n",
    "        \n",
    "        new_graph = TGraph(E_list)\n",
    "        for i, e in enumerate(E_list):\n",
    "            new_graph.add_edge_property(e[0], e[1], \"weight\", weights[i])\n",
    "        \n",
    "        return new_graph\n",
    "    \n",
    "    def __iter__(self) -> TGraph:\n",
    "        for num_vertices, num_edges in zip(self.num_vertices_range,self.num_edges_range):\n",
    "            yield self.create_graph(num_vertices, num_edges)"
   ]
  },
  {
   "cell_type": "code",
   "execution_count": 181,
   "metadata": {},
   "outputs": [],
   "source": [
    "def create_log_grid(max_vertices, max_edges, num_points):\n",
    "    vertices = np.logspace(1, np.log10(max_vertices), num_points, dtype=int)\n",
    "    edges = np.logspace(1, np.log10(max_edges), num_points, dtype=int)\n",
    "    \n",
    "\n",
    "\n",
    "    v_mesh, e_mesh = np.meshgrid(vertices, edges)\n",
    "    v_mesh = v_mesh.flatten()\n",
    "    e_mesh = e_mesh.flatten()\n",
    "    \n",
    "    e_mesh = np.minimum(e_mesh, v_mesh * (v_mesh - 1))\n",
    "    \n",
    "    return v_mesh, e_mesh\n"
   ]
  },
  {
   "cell_type": "code",
   "execution_count": 186,
   "metadata": {},
   "outputs": [],
   "source": [
    "max_vertices = 100\n",
    "max_edges = 1000\n",
    "num_points = 3\n",
    "\n",
    "vertices, edges = create_log_grid(max_vertices, max_edges, num_points)"
   ]
  },
  {
   "cell_type": "code",
   "execution_count": 215,
   "metadata": {},
   "outputs": [],
   "source": [
    "@measure_performance\n",
    "def measure_prims_performance(graph: TGraph) -> PerformanceMeasure:\n",
    "    return graph.prims_mst()\n",
    "\n",
    "@measure_performance\n",
    "def measure_kruskal_performance(graph: TGraph) -> PerformanceMeasure:\n",
    "    return graph.kruskal_mst()"
   ]
  },
  {
   "cell_type": "code",
   "execution_count": 188,
   "metadata": {},
   "outputs": [],
   "source": [
    "graph_factory = WeightedGraphFactory(vertices, edges, 100, 0)"
   ]
  },
  {
   "cell_type": "code",
   "execution_count": 223,
   "metadata": {},
   "outputs": [
    {
     "name": "stderr",
     "output_type": "stream",
     "text": [
      "9it [00:00, 232.20it/s]\n"
     ]
    }
   ],
   "source": [
    "kruskal_data = [measure_kruskal_performance(graph)[1] for graph in tqdm(graph_factory)]"
   ]
  },
  {
   "cell_type": "code",
   "execution_count": 232,
   "metadata": {},
   "outputs": [],
   "source": [
    "kruskal_df = pd.DataFrame(kruskal_data, columns=[\"cpu_time\", \"elapsed_time\", \"memory_usage\"])\n",
    "kruskal_df[\"V\"] = vertices\n",
    "kruskal_df[\"E\"] = edges"
   ]
  },
  {
   "cell_type": "code",
   "execution_count": null,
   "metadata": {},
   "outputs": [],
   "source": []
  }
 ],
 "metadata": {
  "kernelspec": {
   "display_name": "Python 3",
   "language": "python",
   "name": "python3"
  },
  "language_info": {
   "codemirror_mode": {
    "name": "ipython",
    "version": 3
   },
   "file_extension": ".py",
   "mimetype": "text/x-python",
   "name": "python",
   "nbconvert_exporter": "python",
   "pygments_lexer": "ipython3",
   "version": "3.11.5"
  }
 },
 "nbformat": 4,
 "nbformat_minor": 2
}
